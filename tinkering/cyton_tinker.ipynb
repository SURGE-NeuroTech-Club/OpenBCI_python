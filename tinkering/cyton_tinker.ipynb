{
 "cells": [
  {
   "cell_type": "markdown",
   "metadata": {},
   "source": [
    "## For Tinkering With Actual Data from Cyton Board"
   ]
  },
  {
   "cell_type": "code",
   "execution_count": 1,
   "metadata": {},
   "outputs": [],
   "source": [
    "import sys\n",
    "sys.path.append(\"..\")\n",
    "import time\n",
    "from brainflow.board_shim import BoardShim, BrainFlowInputParams, BoardIds, BrainFlowPresets\n",
    "from modules.ssvep_handler import *\n",
    "from modules.stream_data import *\n",
    "from modules.preprocessing import *\n",
    "import numpy as np\n",
    "from mvlearn.embed import CCA\n",
    "import matplotlib.pyplot as plt"
   ]
  },
  {
   "cell_type": "code",
   "execution_count": 2,
   "metadata": {},
   "outputs": [
    {
     "name": "stdout",
     "output_type": "stream",
     "text": [
      "Sampling Rate: 250\n",
      "Default Channels: ['Fz', 'C3', 'Cz', 'C4', 'Pz', 'PO7', 'Oz', 'PO8', 'F5', 'F7', 'F3', 'F1', 'F2', 'F4', 'F6', 'F8']\n",
      "Channel Mapping: {'Fz': 'O1', 'C3': 'O2', 'Cz': 'Oz', 'C4': 'Pz', 'Pz': 'P3', 'PO7': 'P4', 'Oz': 'POz', 'PO8': 'P1'}\n",
      "Board setup and streaming started successfully\n"
     ]
    }
   ],
   "source": [
    "serial_port = 'COM4' \n",
    "board_id = BoardIds.SYNTHETIC_BOARD #BoardIds.CYTON_BOARD\n",
    "frequencies = [9.25, 11.25, 13.25, 15.25] # Stimulus frequencies; used for CCA & harmonic generation\n",
    "buttons = ['Right', 'Left', 'Up', 'Down'] # Adds custom text to each box - must be same length as frequencies \n",
    "button_pos = [0, 2, 3, 1] # Assigns positions to custom text - must be same length as buttons\n",
    "segment_duration = 4 # seconds\n",
    "display = 1 # Which screen to display the stimulus paradigm on --> 0 is default\n",
    "\n",
    "# Static Variables - Probably don't need to touch :)\n",
    "harmonics = np.arange(1, 4) # Generates the 1st, 2nd, & 3rd Harmonics\n",
    "sampling_rate = BoardShim.get_sampling_rate(board_id)\n",
    "n_samples = sampling_rate * segment_duration \n",
    "\n",
    "\n",
    "eeg_channels = BoardShim.get_eeg_names(board_id)\n",
    "channel_names = [\"O1\", \"O2\", \"Oz\", \"Pz\", \"P3\", \"P4\", \"POz\", \"P1\"]\n",
    "channel_mapping = dict(zip(eeg_channels, channel_names))\n",
    "\n",
    "# Show board information\n",
    "print(f\"Sampling Rate: {sampling_rate}\")\n",
    "print(f\"Default Channels: {eeg_channels}\")\n",
    "print(f\"Channel Mapping: {channel_mapping}\")\n",
    "\n",
    "board = BrainFlowBoardSetup(board_id, serial_port)\n",
    "# board.show_params() # Logger shows this info by default - this is another method to show\n",
    "board.setup()\n"
   ]
  },
  {
   "cell_type": "code",
   "execution_count": 55,
   "metadata": {},
   "outputs": [
    {
     "name": "stdout",
     "output_type": "stream",
     "text": [
      "Filtered data shape: (8, 1000)\n"
     ]
    },
    {
     "ename": "NameError",
     "evalue": "name 'classifier_stacked' is not defined",
     "output_type": "error",
     "traceback": [
      "\u001b[1;31m---------------------------------------------------------------------------\u001b[0m",
      "\u001b[1;31mNameError\u001b[0m                                 Traceback (most recent call last)",
      "Cell \u001b[1;32mIn[55], line 19\u001b[0m\n\u001b[0;32m     17\u001b[0m     detected_freq, correlation \u001b[38;5;241m=\u001b[39m classifier\u001b[38;5;241m.\u001b[39mcca_analysis(filtered_segment)\n\u001b[0;32m     18\u001b[0m         \u001b[38;5;66;03m# Stacked Harmonics (testing)\u001b[39;00m\n\u001b[1;32m---> 19\u001b[0m     detected_freq_stacked, correlation_stacked \u001b[38;5;241m=\u001b[39m \u001b[43mclassifier_stacked\u001b[49m\u001b[38;5;241m.\u001b[39mcca_analysis(filtered_segment)\n\u001b[0;32m     21\u001b[0m     \u001b[38;5;28mprint\u001b[39m(\u001b[38;5;124mf\u001b[39m\u001b[38;5;124m\"\u001b[39m\u001b[38;5;124mDetected frequency: \u001b[39m\u001b[38;5;132;01m{\u001b[39;00mdetected_freq\u001b[38;5;132;01m}\u001b[39;00m\u001b[38;5;124m Hz with correlation: \u001b[39m\u001b[38;5;132;01m{\u001b[39;00mcorrelation\u001b[38;5;132;01m}\u001b[39;00m\u001b[38;5;124m\"\u001b[39m)\n\u001b[0;32m     23\u001b[0m     \u001b[38;5;66;03m# Optionally save or process the data further\u001b[39;00m\n\u001b[0;32m     24\u001b[0m     \u001b[38;5;66;03m# segmenter.save_data(filtered_data, \"filtered_data.csv\")\u001b[39;00m\n\u001b[0;32m     25\u001b[0m     \u001b[38;5;66;03m# segmenter.save_data(features, \"features.csv\")\u001b[39;00m\n\u001b[0;32m     26\u001b[0m \n\u001b[0;32m     27\u001b[0m \u001b[38;5;66;03m# Sleep for a while to collect new data\u001b[39;00m\n",
      "\u001b[1;31mNameError\u001b[0m: name 'classifier_stacked' is not defined"
     ]
    }
   ],
   "source": [
    "segmenter = PreProcess(board, segment_duration=segment_duration)\n",
    "classifier = ClassifySSVEP(frequencies, harmonics, sampling_rate, n_samples, stack_harmonics=False)\n",
    "classifier_stacked = ClassifySSVEP(frequencies, harmonics, sampling_rate, n_samples, stack_harmonics=True)\n",
    "\n",
    "while True:\n",
    "    segment = segmenter.get_segment()\n",
    "    if segment is not None:\n",
    "        \n",
    "        # print(f\"Segment shape: {segment.shape}\")\n",
    "        eeg_segment = segment[0:8, :]\n",
    "\n",
    "        # Step 2: Filter the data\n",
    "        filtered_segment = segmenter.filter_data(eeg_segment)\n",
    "        print(\"Filtered data shape:\", filtered_segment.shape)\n",
    "\n",
    "        # Step 3: Use CCA to match the EEG & Reference (harmonic) signals\n",
    "            # Unstacked Harmonics (testing)\n",
    "        detected_freq, correlation = classifier.cca_analysis(filtered_segment)\n",
    "            # Stacked Harmonics (testing)\n",
    "        detected_freq_stacked, correlation_stacked = classifier_stacked.cca_analysis(filtered_segment)\n",
    "        \n",
    "        print(f\"Detected frequency: {detected_freq} Hz with correlation: {correlation}\")\n",
    "\n",
    "        # Optionally save or process the data further\n",
    "        # segmenter.save_data(filtered_data, \"filtered_data.csv\")\n",
    "        # segmenter.save_data(features, \"features.csv\")\n",
    "\n",
    "    # Sleep for a while to collect new data\n",
    "    time.sleep(segmenter.segment_duration)"
   ]
  },
  {
   "cell_type": "code",
   "execution_count": 5,
   "metadata": {},
   "outputs": [
    {
     "data": {
      "text/plain": [
       "7660"
      ]
     },
     "execution_count": 5,
     "metadata": {},
     "output_type": "execute_result"
    }
   ],
   "source": [
    "board.get_board_data_count()"
   ]
  },
  {
   "cell_type": "code",
   "execution_count": 51,
   "metadata": {},
   "outputs": [],
   "source": [
    "data = board.get_current_board_data(1000)    "
   ]
  },
  {
   "cell_type": "code",
   "execution_count": 41,
   "metadata": {},
   "outputs": [
    {
     "data": {
      "text/plain": [
       "(24, 1000)"
      ]
     },
     "execution_count": 41,
     "metadata": {},
     "output_type": "execute_result"
    }
   ],
   "source": [
    "data.shape"
   ]
  },
  {
   "cell_type": "code",
   "execution_count": 6,
   "metadata": {},
   "outputs": [
    {
     "name": "stdout",
     "output_type": "stream",
     "text": [
      "\n",
      "Streaming stopped\n",
      "Session released\n"
     ]
    }
   ],
   "source": [
    "board.stop()"
   ]
  },
  {
   "cell_type": "code",
   "execution_count": null,
   "metadata": {},
   "outputs": [],
   "source": []
  }
 ],
 "metadata": {
  "kernelspec": {
   "display_name": "ncil",
   "language": "python",
   "name": "python3"
  },
  "language_info": {
   "codemirror_mode": {
    "name": "ipython",
    "version": 3
   },
   "file_extension": ".py",
   "mimetype": "text/x-python",
   "name": "python",
   "nbconvert_exporter": "python",
   "pygments_lexer": "ipython3",
   "version": "3.12.2"
  }
 },
 "nbformat": 4,
 "nbformat_minor": 2
}
