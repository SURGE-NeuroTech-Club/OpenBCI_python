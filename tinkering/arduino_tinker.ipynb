{
 "cells": [
  {
   "cell_type": "markdown",
   "metadata": {},
   "source": [
    "## Testing Working the Arduino Car w/ Python"
   ]
  },
  {
   "cell_type": "code",
   "execution_count": null,
   "metadata": {},
   "outputs": [],
   "source": [
    "import serial\n",
    "import time\n",
    "\n",
    "# Replace with your Bluetooth serial port (check on your system)\n",
    "bluetooth_port = '/dev/ttyUSB0'  # Example port for Linux, adjust as needed\n",
    "baud_rate = 9600\n",
    "\n",
    "def send_command_to_arduino(command):\n",
    "    with serial.Serial(bluetooth_port, baud_rate, timeout=1) as ser:\n",
    "        ser.write(command.encode())\n",
    "        print(f\"Sent command '{command}' to Arduino\")\n",
    "\n",
    "# Example usage:\n",
    "send_command_to_arduino('f')  # Sends 'f' to move forward\n",
    "time.sleep(1)  # Wait for response or additional commands\n",
    "\n",
    "# Add more commands as needed\n"
   ]
  }
 ],
 "metadata": {
  "language_info": {
   "name": "python"
  }
 },
 "nbformat": 4,
 "nbformat_minor": 2
}
